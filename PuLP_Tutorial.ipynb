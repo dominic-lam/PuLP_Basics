{
 "cells": [
  {
   "cell_type": "markdown",
   "id": "5ad0fc7f",
   "metadata": {},
   "source": [
    "# PuLP Library in Python: Linear Programming Tutorial"
   ]
  },
  {
   "cell_type": "markdown",
   "id": "587216f8",
   "metadata": {},
   "source": [
    "\n",
    "**PuLP** is a Python library for solving linear and integer programming problems. It provides an easy interface to define optimization problems and supports various solvers.\n",
    "In this tutorial, we will learn how to:\n",
    "- Define a linear programming problem\n",
    "- Add decision variables\n",
    "- Set up the objective function and constraints\n",
    "- Solve the problem and interpret the results\n",
    "\n",
    "Let's get started by installing the `PuLP` library.\n",
    "        "
   ]
  },
  {
   "cell_type": "code",
   "execution_count": 1,
   "id": "d54b7917",
   "metadata": {},
   "outputs": [],
   "source": [
    "# !pip install pulp"
   ]
  },
  {
   "cell_type": "markdown",
   "id": "c7648d8d",
   "metadata": {},
   "source": [
    "\n",
    "## 1. Basic Concepts of Linear Programming\n",
    "Linear programming (LP) is a method for optimizing a linear objective function, subject to linear equality and inequality constraints.\n",
    "\n",
    "A general LP problem can be defined as:\n",
    "- **Maximize (or Minimize)**: $ c_1x_1 + c_2x_2 + ... + c_nx_n $\n",
    "- **Subject to constraints**:\n",
    "    $$\n",
    "    a_{11}x_1 + a_{12}x_2 + ... + a_{1n}x_n \\leq b_1\n",
    "    $$\n",
    "  \n",
    "    $$\n",
    "    a_{21}x_1 + a_{22}x_2 + ... + a_{2n}x_n \\leq b_2\n",
    "    $$\n",
    "    where $x_1, x_2, ..., x_n$ are decision variables.\n",
    "\n",
    "### Problem Example:\n",
    "You manage a factory producing two products (A and B). You want to maximize the profit:\n",
    "- Profit from A: \\$40/unit  \n",
    "- Profit from B: \\$30/unit\n",
    "\n",
    "**Constraints**:\n",
    "- 100 hours of labor available, where A takes 2 hours/unit and B takes 1 hour/unit.\n",
    "- 80 units of material available, 1 unit of material per product.\n",
    "        "
   ]
  },
  {
   "cell_type": "markdown",
   "id": "c822858e",
   "metadata": {},
   "source": [
    "## 2. Problem Creation and Solving"
   ]
  },
  {
   "cell_type": "code",
   "execution_count": 32,
   "id": "9feb1a30",
   "metadata": {},
   "outputs": [],
   "source": [
    "# Import PuLP library\n",
    "from pulp import LpMaximize, LpProblem, LpVariable        "
   ]
  },
  {
   "cell_type": "code",
   "execution_count": 44,
   "id": "7018eda5-8bfb-45c8-ba4c-e80b040a5b27",
   "metadata": {},
   "outputs": [
    {
     "name": "stdout",
     "output_type": "stream",
     "text": [
      "maximize-profits:\n",
      "MAXIMIZE\n",
      "None\n",
      "VARIABLES\n",
      "\n"
     ]
    }
   ],
   "source": [
    "# Create a new LP maximization problem\n",
    "model = LpProblem(name=\"maximize-profits\", sense=LpMaximize)\n",
    "print(model)"
   ]
  },
  {
   "cell_type": "code",
   "execution_count": 45,
   "id": "3a7605d0-e00f-4905-8913-e48ef0afb927",
   "metadata": {},
   "outputs": [
    {
     "name": "stdout",
     "output_type": "stream",
     "text": [
      "A B\n"
     ]
    }
   ],
   "source": [
    "# Define decision variables A and B\n",
    "# A = LpVariable(name=\"A\", lowBound=0)\n",
    "# B = LpVariable(name=\"B\", lowBound=0)\n",
    "\n",
    "# Integer decision variables, Come back later if this is the first time you read this\n",
    "A = LpVariable(name=\"A\", lowBound=0, cat='Integer')\n",
    "B = LpVariable(name=\"B\", lowBound=0, cat='Integer')\n",
    "\n",
    "print(A, B)"
   ]
  },
  {
   "cell_type": "code",
   "execution_count": 46,
   "id": "f6d33593-b642-4f30-aea5-a2695aaf78e7",
   "metadata": {},
   "outputs": [
    {
     "name": "stdout",
     "output_type": "stream",
     "text": [
      "maximize-profits:\n",
      "MAXIMIZE\n",
      "40*A + 30*B + 0\n",
      "VARIABLES\n",
      "0 <= A Integer\n",
      "0 <= B Integer\n",
      "\n"
     ]
    }
   ],
   "source": [
    "# Add objective function to maximize profit\n",
    "model += 40 * A + 30 * B, \"Total Profit\"\n",
    "print(model)"
   ]
  },
  {
   "cell_type": "code",
   "execution_count": 47,
   "id": "0ebf756c-0045-42b8-a742-0b54062f2e2c",
   "metadata": {},
   "outputs": [
    {
     "name": "stdout",
     "output_type": "stream",
     "text": [
      "maximize-profits:\n",
      "MAXIMIZE\n",
      "40*A + 30*B + 0\n",
      "SUBJECT TO\n",
      "Labor_Constraint: 2 A + B <= 100\n",
      "\n",
      "Material_Constraint: A + B <= 80\n",
      "\n",
      "VARIABLES\n",
      "0 <= A Integer\n",
      "0 <= B Integer\n",
      "\n"
     ]
    }
   ],
   "source": [
    "# Add constraints: Labor and Material\n",
    "model += (2 * A + B <= 100), \"Labor Constraint\"\n",
    "model += (A + B <= 80), \"Material Constraint\"\n",
    "print(model)"
   ]
  },
  {
   "cell_type": "code",
   "execution_count": 48,
   "id": "640e5f63-2046-429d-abee-394779d12e15",
   "metadata": {},
   "outputs": [
    {
     "name": "stdout",
     "output_type": "stream",
     "text": [
      "Welcome to the CBC MILP Solver \n",
      "Version: 2.10.3 \n",
      "Build Date: Dec 15 2019 \n",
      "\n",
      "command line - /Users/dominiclam/miniforge3/envs/dsci512/lib/python3.12/site-packages/pulp/solverdir/cbc/osx/64/cbc /var/folders/vd/x94bg0712fz03tg0gd4z5r5r0000gn/T/3fe8b48b4b47438eb80f627fdb795515-pulp.mps -max -timeMode elapsed -branch -printingOptions all -solution /var/folders/vd/x94bg0712fz03tg0gd4z5r5r0000gn/T/3fe8b48b4b47438eb80f627fdb795515-pulp.sol (default strategy 1)\n",
      "At line 2 NAME          MODEL\n",
      "At line 3 ROWS\n",
      "At line 7 COLUMNS\n",
      "At line 18 RHS\n",
      "At line 21 BOUNDS\n",
      "At line 24 ENDATA\n",
      "Problem MODEL has 2 rows, 2 columns and 4 elements\n",
      "Coin0008I MODEL read with 0 errors\n",
      "Option for timeMode changed from cpu to elapsed\n",
      "Continuous objective value is 2600 - 0.00 seconds\n",
      "Cgl0004I processed model has 2 rows, 2 columns (2 integer (0 of which binary)) and 4 elements\n",
      "Cutoff increment increased from 1e-05 to 9.9999\n",
      "Cbc0012I Integer solution of -2600 found by DiveCoefficient after 0 iterations and 0 nodes (0.02 seconds)\n",
      "Cbc0001I Search completed - best objective -2600, took 0 iterations and 0 nodes (0.02 seconds)\n",
      "Cbc0035I Maximum depth 0, 0 variables fixed on reduced cost\n",
      "Cuts at root node changed objective from -2600 to -2600\n",
      "Probing was tried 0 times and created 0 cuts of which 0 were active after adding rounds of cuts (0.000 seconds)\n",
      "Gomory was tried 0 times and created 0 cuts of which 0 were active after adding rounds of cuts (0.000 seconds)\n",
      "Knapsack was tried 0 times and created 0 cuts of which 0 were active after adding rounds of cuts (0.000 seconds)\n",
      "Clique was tried 0 times and created 0 cuts of which 0 were active after adding rounds of cuts (0.000 seconds)\n",
      "MixedIntegerRounding2 was tried 0 times and created 0 cuts of which 0 were active after adding rounds of cuts (0.000 seconds)\n",
      "FlowCover was tried 0 times and created 0 cuts of which 0 were active after adding rounds of cuts (0.000 seconds)\n",
      "TwoMirCuts was tried 0 times and created 0 cuts of which 0 were active after adding rounds of cuts (0.000 seconds)\n",
      "ZeroHalf was tried 0 times and created 0 cuts of which 0 were active after adding rounds of cuts (0.000 seconds)\n",
      "\n",
      "Result - Optimal solution found\n",
      "\n",
      "Objective value:                2600.00000000\n",
      "Enumerated nodes:               0\n",
      "Total iterations:               0\n",
      "Time (CPU seconds):             0.00\n",
      "Time (Wallclock seconds):       0.02\n",
      "\n",
      "Option for printingOptions changed from normal to all\n",
      "Total time (CPU seconds):       0.00   (Wallclock seconds):       0.03\n",
      "\n"
     ]
    }
   ],
   "source": [
    "# Solve the problem\n",
    "status = model.solve()\n",
    "# print(status)"
   ]
  },
  {
   "cell_type": "code",
   "execution_count": 49,
   "id": "ef10316b-897e-4956-bdfb-4a5385943cb3",
   "metadata": {},
   "outputs": [
    {
     "name": "stdout",
     "output_type": "stream",
     "text": [
      "Status: 1\n",
      "Optimal production of A: 20.0\n",
      "Optimal production of B: 60.0\n",
      "Total Profit: 2600.0\n"
     ]
    }
   ],
   "source": [
    "# Output status and results\n",
    "print(f\"Status: {model.status}\")\n",
    "print(f\"Optimal production of A: {A.value()}\")\n",
    "print(f\"Optimal production of B: {B.value()}\")\n",
    "print(f\"Total Profit: {model.objective.value()}\")"
   ]
  },
  {
   "cell_type": "markdown",
   "id": "151d0319",
   "metadata": {},
   "source": [
    "\n",
    "## 3. Integer Programming (Optional)\n",
    "If the decision variables must be integers (e.g., you can't produce half a product), you can modify the decision variables like so:\n",
    "        "
   ]
  },
  {
   "cell_type": "code",
   "execution_count": 27,
   "id": "27c45e85",
   "metadata": {},
   "outputs": [],
   "source": [
    "\n",
    "# Integer decision variables\n",
    "A = LpVariable(name=\"A\", lowBound=0, cat='Integer')\n",
    "B = LpVariable(name=\"B\", lowBound=0, cat='Integer')\n",
    "\n",
    "# Re-run the rest of the problem definition and solving process as shown earlier\n",
    "# model += 40 * A + 30 * B, \"Total Profit\"\n",
    "# model += (2 * A + B <= 100), \"Labor Constraint\"\n",
    "# model += (A + B <= 80), \"Material Constraint\"\n",
    "\n",
    "# status = model.solve()\n",
    "# print(f\"Status: {model.status}\")\n",
    "# print(f\"Optimal production of A: {A.value()}\")\n",
    "# print(f\"Optimal production of B: {B.value()}\")\n",
    "# print(f\"Total Profit: {model.objective.value()}\")"
   ]
  },
  {
   "cell_type": "markdown",
   "id": "a5cefbd2-41ee-4461-a572-7a676876492a",
   "metadata": {},
   "source": [
    "## 4. pulp.lpSum\n",
    "\n",
    "The lpSum function in PuLP is used to create a linear expression that represents the sum of a list of terms. It is particularly useful when you need to sum up several decision variables or expressions in your linear programming problem.\n",
    "\n",
    "### Why Use lpSum?\n",
    "\n",
    "- Readability: When you have many terms to sum (e.g., in an objective function or constraint), lpSum makes the code more readable and concise.\n",
    "- Efficiency: It is a more efficient way to sum multiple expressions compared to using a series of + operators.\n",
    "\n",
    "**Syntax**\n",
    "\n",
    "`pulp.lpSum(sequence)`\n",
    "\n",
    "sequence: A list or iterable containing the terms to be summed. These can be decision variables, constants, or expressions involving decision variables."
   ]
  },
  {
   "cell_type": "markdown",
   "id": "67b035b1-1575-4ecb-8980-2439d32c0aef",
   "metadata": {},
   "source": [
    "### Example\n",
    "\n",
    "The objective function maximizes $3x_1 + 5x_2$.  \n",
    "The constraint ensures that $x_1 + 2x_2 \\leq 10$.  \n",
    "`lpSum` is used in both the objective function and the constraint to simplify the summation.\n"
   ]
  },
  {
   "cell_type": "code",
   "execution_count": 55,
   "id": "bf36c12f-70e6-4683-8c10-efe0c5c5a1dc",
   "metadata": {},
   "outputs": [
    {
     "name": "stdout",
     "output_type": "stream",
     "text": [
      "x1 + x2 + x3\n"
     ]
    }
   ],
   "source": [
    "from pulp import LpVariable, lpSum\n",
    "\n",
    "# Define some variables\n",
    "x1 = LpVariable(\"x1\", lowBound=0)\n",
    "x2 = LpVariable(\"x2\", lowBound=0)\n",
    "x3 = LpVariable(\"x3\", lowBound=0)\n",
    "\n",
    "# Sum them using lpSum\n",
    "total = lpSum([x1, x2, x3])\n",
    "\n",
    "print(total)"
   ]
  },
  {
   "cell_type": "code",
   "execution_count": 56,
   "id": "3f614aad-b29f-47cb-88fa-f9c1b191601a",
   "metadata": {},
   "outputs": [
    {
     "name": "stdout",
     "output_type": "stream",
     "text": [
      "2*x1 + 3*x2\n"
     ]
    }
   ],
   "source": [
    "# Define variables\n",
    "x1 = LpVariable(\"x1\", lowBound=0)\n",
    "x2 = LpVariable(\"x2\", lowBound=0)\n",
    "\n",
    "# Sum expressions\n",
    "objective_function = lpSum([2 * x1, 3 * x2])\n",
    "\n",
    "print(objective_function)"
   ]
  },
  {
   "cell_type": "code",
   "execution_count": 59,
   "id": "9df48327-14a4-45c2-a168-5673609a9fba",
   "metadata": {},
   "outputs": [
    {
     "data": {
      "text/plain": [
       "1"
      ]
     },
     "execution_count": 59,
     "metadata": {},
     "output_type": "execute_result"
    }
   ],
   "source": [
    "import pulp\n",
    "# Create a maximization problem\n",
    "model = LpProblem(name=\"example-problem\", sense=LpMaximize)\n",
    "\n",
    "# Define variables\n",
    "x1 = LpVariable(\"x1\", lowBound=0)\n",
    "x2 = LpVariable(\"x2\", lowBound=0)\n",
    "\n",
    "# Objective function: Maximize 3*x1 + 5*x2\n",
    "model += lpSum([3 * x1, 5 * x2])\n",
    "\n",
    "# Constraint: x1 + 2*x2 <= 10\n",
    "model += lpSum([x1, 2 * x2]) <= 10\n",
    "\n",
    "# Solve the problem\n",
    "model.solve(pulp.apis.PULP_CBC_CMD(msg=0))"
   ]
  },
  {
   "cell_type": "markdown",
   "id": "30e680d9-a142-40ec-b36c-67529057c968",
   "metadata": {},
   "source": [
    "## 4. pulp.lpSum\n",
    "\n",
    "The lpSum function in PuLP is used to create a linear expression that represents the sum of a list of terms. It is particularly useful when you need to sum up several decision variables or expressions in your linear programming problem.\n",
    "\n",
    "### Why Use lpSum?\n",
    "\n",
    "- Readability: When you have many terms to sum (e.g., in an objective function or constraint), lpSum makes the code more readable and concise.\n",
    "- Efficiency: It is a more efficient way to sum multiple expressions compared to using a series of + operators.\n",
    "\n",
    "Syntax\n",
    "\n",
    "sequence: A list or iterable containing the terms to be summed. These can be decision variables, constants, or expressions involving decision variables."
   ]
  },
  {
   "cell_type": "markdown",
   "id": "7403d91f-68a7-47fa-bf59-bfb3b9fbbffa",
   "metadata": {},
   "source": [
    "## Common Use Cases and Examples\n",
    "\n",
    "Here are a few typical use cases for linear programming:\n",
    "\n",
    "- Resource allocation: Maximize profit or minimize cost while respecting resource limits.\n",
    "- Diet problem: Minimize the cost of food while meeting all nutritional requirements.\n",
    "- Transportation problem: Minimize the cost of transporting goods from warehouses to customers.\n",
    "- Blending problems: Optimize the mix of inputs to produce a product at minimum cost."
   ]
  },
  {
   "cell_type": "markdown",
   "id": "54129cba",
   "metadata": {},
   "source": [
    "\n",
    "## Conclusion:\n",
    "In this tutorial, we covered how to:\n",
    "1. Set up a linear programming problem using `PuLP`.\n",
    "2. Define decision variables, objective functions, and constraints.\n",
    "3. Solve the problem and interpret results.\n",
    "\n",
    "You can explore advanced features like sensitivity analysis, integer programming, and using different solvers in `PuLP`.\n",
    "        "
   ]
  }
 ],
 "metadata": {
  "kernelspec": {
   "display_name": "Python [conda env:dsci512]",
   "language": "python",
   "name": "conda-env-dsci512-py"
  },
  "language_info": {
   "codemirror_mode": {
    "name": "ipython",
    "version": 3
   },
   "file_extension": ".py",
   "mimetype": "text/x-python",
   "name": "python",
   "nbconvert_exporter": "python",
   "pygments_lexer": "ipython3",
   "version": "3.12.7"
  }
 },
 "nbformat": 4,
 "nbformat_minor": 5
}
